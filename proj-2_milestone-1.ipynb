{
 "cells": [
  {
   "cell_type": "code",
   "execution_count": 7,
   "id": "5ab94f52",
   "metadata": {},
   "outputs": [],
   "source": [
    "from braket import *\n",
    "from braket.circuits import Circuit, Gate, Observable\n",
    "from braket.devices import LocalSimulator\n",
    "from braket.circuits import circuit"
   ]
  },
  {
   "cell_type": "code",
   "execution_count": 32,
   "id": "b8145f2c",
   "metadata": {},
   "outputs": [
    {
     "name": "stdout",
     "output_type": "stream",
     "text": [
      "Counter({'0': 1})\n"
     ]
    }
   ],
   "source": [
    "device = LocalSimulator()\n",
    "\n",
    "toy_circuit = Circuit()\n",
    "toy_circuit.h(0)\n",
    "\n",
    "result = device.run(toy_circuit, shots=1).result()\n",
    "counter = result.measurement_counts\n",
    "print(counter)"
   ]
  },
  {
   "cell_type": "code",
   "execution_count": 34,
   "id": "b95b090b",
   "metadata": {},
   "outputs": [
    {
     "name": "stdout",
     "output_type": "stream",
     "text": [
      "1\n"
     ]
    }
   ],
   "source": [
    "print(counter['1'])"
   ]
  },
  {
   "cell_type": "code",
   "execution_count": null,
   "id": "ba47e41f",
   "metadata": {},
   "outputs": [],
   "source": []
  }
 ],
 "metadata": {
  "kernelspec": {
   "display_name": "Python 3 (ipykernel)",
   "language": "python",
   "name": "python3"
  },
  "language_info": {
   "codemirror_mode": {
    "name": "ipython",
    "version": 3
   },
   "file_extension": ".py",
   "mimetype": "text/x-python",
   "name": "python",
   "nbconvert_exporter": "python",
   "pygments_lexer": "ipython3",
   "version": "3.9.6"
  }
 },
 "nbformat": 4,
 "nbformat_minor": 5
}
