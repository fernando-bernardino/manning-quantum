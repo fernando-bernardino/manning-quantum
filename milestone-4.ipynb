{
 "cells": [
  {
   "cell_type": "code",
   "execution_count": 2,
   "id": "396d6d1a",
   "metadata": {},
   "outputs": [],
   "source": [
    "from braket import *\n",
    "from braket.circuits import Circuit, Gate, Observable\n",
    "from braket.devices import LocalSimulator\n",
    "from braket.circuits import circuit\n",
    "import matplotlib.pyplot as plt"
   ]
  },
  {
   "cell_type": "code",
   "execution_count": null,
   "id": "ad35b177",
   "metadata": {},
   "outputs": [],
   "source": [
    "# Braket gates:\n",
    "\n",
    "# Hadamard gate - h\n",
    "# identity gate - i\n",
    "# Pauli-X gate  - x\n",
    "# Pauli-Y gate  - y\n",
    "# Pauli-Z gate  - z\n",
    "# S gate        - s\n",
    "# Conj T S gate - si\n",
    "# T gate        - t\n",
    "# Conj T T gate - ti\n",
    "# SQRT NOT gate - v\n",
    "# Conj T SQRT NOT gate - vi\n",
    "# X-axis rotation gate - rx\n",
    "# Y-axis rotation gate - ry\n",
    "# Z-axis rotation gate - rz\n",
    "# Phase shift gate     - phaseshift\n",
    "# Controlled NOT gate  - cnot\n",
    "# Swap gate            - swap\n",
    "# ISwap gate           - iswap\n",
    "# PSwap gate           - pswap\n",
    "# XY gate              - xy\n",
    "# Controlled phase shift gate - cphaseshift\n",
    "# Controlled phase shift gate for phasing the |00> state - cphaseshift00\n",
    "# Controlled phase shift gate for phasing the |01> state - cphaseshift01\n",
    "# Controlled phase shift gate for phasing the |10> state - cphaseshift10\n",
    "# Controlled Pauli-Y gate     - cy\n",
    "# Controlled Pauli-Z gate     - cz\n",
    "# Ising XX coupling gate      - xx\n",
    "# Ising YY coupling gate      - yy\n",
    "# Ising ZZ coupling gate      - zz\n",
    "# CCNOT gate or Toffoli gate  - ccnot\n",
    "# Controlled Swap gate        - cswap\n",
    "# Arbitrary unitary gate      - unitary"
   ]
  },
  {
   "cell_type": "code",
   "execution_count": 6,
   "id": "3ccf3625",
   "metadata": {},
   "outputs": [
    {
     "name": "stdout",
     "output_type": "stream",
     "text": [
      "T  : |0|1|\n",
      "          \n",
      "q0 : -H-C-\n",
      "        | \n",
      "q1 : ---X-\n",
      "\n",
      "T  : |0|1|\n"
     ]
    }
   ],
   "source": [
    "device = LocalSimulator()\n",
    "\n",
    "toy_circuit = Circuit()\n",
    "\n",
    "toy_circuit.h(0)\n",
    "toy_circuit.cnot(0, 1)\n",
    "\n",
    "print(toy_circuit)"
   ]
  },
  {
   "cell_type": "code",
   "execution_count": null,
   "id": "6c6b08ef",
   "metadata": {},
   "outputs": [],
   "source": [
    "result = device.run(toy_circuit, shots=1000).result()\n",
    "\n",
    "counts = result.measurement_counts\n",
    "\n",
    "counts"
   ]
  }
 ],
 "metadata": {
  "kernelspec": {
   "display_name": "Python 3 (ipykernel)",
   "language": "python",
   "name": "python3"
  },
  "language_info": {
   "codemirror_mode": {
    "name": "ipython",
    "version": 3
   },
   "file_extension": ".py",
   "mimetype": "text/x-python",
   "name": "python",
   "nbconvert_exporter": "python",
   "pygments_lexer": "ipython3",
   "version": "3.9.6"
  }
 },
 "nbformat": 4,
 "nbformat_minor": 5
}
