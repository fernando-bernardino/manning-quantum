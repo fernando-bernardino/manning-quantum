{
 "cells": [
  {
   "cell_type": "code",
   "execution_count": 1,
   "id": "a6ef50e8",
   "metadata": {},
   "outputs": [],
   "source": [
    "from braket import *\n",
    "from braket.circuits import Circuit, Gate, Observable\n",
    "from braket.devices import LocalSimulator\n",
    "from braket.circuits import circuit"
   ]
  },
  {
   "cell_type": "code",
   "execution_count": 59,
   "id": "47c11276",
   "metadata": {},
   "outputs": [],
   "source": [
    "def quantum_seed(keylenght):\n",
    "    device = LocalSimulator()\n",
    "\n",
    "    circuit = Circuit()\n",
    "    circuit.h(0)\n",
    "    \n",
    "    list = []\n",
    "\n",
    "    for i in range(keylenght):\n",
    "        result = device.run(circuit,shots=1).result().measurement_counts\n",
    "        list.append(result['1'])\n",
    "    \n",
    "    return list"
   ]
  },
  {
   "cell_type": "code",
   "execution_count": 60,
   "id": "dd8f1a77",
   "metadata": {},
   "outputs": [],
   "source": [
    "def toInteger(list):\n",
    "    acc = 0\n",
    "    [acc := acc * 2 + i for i in list]\n",
    "    return acc"
   ]
  },
  {
   "cell_type": "code",
   "execution_count": 61,
   "id": "e4574151",
   "metadata": {},
   "outputs": [],
   "source": [
    "def qrng(keylenght):\n",
    "    list = quantum_seed(keylenght)\n",
    "    return hex(toInteger(list))"
   ]
  },
  {
   "cell_type": "code",
   "execution_count": 62,
   "id": "8c27fdf5",
   "metadata": {},
   "outputs": [
    {
     "data": {
      "text/plain": [
       "'0xa4890'"
      ]
     },
     "execution_count": 62,
     "metadata": {},
     "output_type": "execute_result"
    }
   ],
   "source": [
    "keylenght(10)"
   ]
  },
  {
   "cell_type": "code",
   "execution_count": null,
   "id": "f0b51ccf",
   "metadata": {},
   "outputs": [],
   "source": []
  }
 ],
 "metadata": {
  "kernelspec": {
   "display_name": "Python 3 (ipykernel)",
   "language": "python",
   "name": "python3"
  },
  "language_info": {
   "codemirror_mode": {
    "name": "ipython",
    "version": 3
   },
   "file_extension": ".py",
   "mimetype": "text/x-python",
   "name": "python",
   "nbconvert_exporter": "python",
   "pygments_lexer": "ipython3",
   "version": "3.9.6"
  }
 },
 "nbformat": 4,
 "nbformat_minor": 5
}
