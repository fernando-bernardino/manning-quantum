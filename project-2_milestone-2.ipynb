{
 "cells": [
  {
   "cell_type": "code",
   "execution_count": 1,
   "id": "e5cae764",
   "metadata": {},
   "outputs": [],
   "source": [
    "from braket import *\n",
    "from braket.circuits import Circuit, Gate, Observable\n",
    "from braket.devices import LocalSimulator\n",
    "from braket.circuits import circuit"
   ]
  },
  {
   "cell_type": "code",
   "execution_count": 58,
   "id": "3661634b",
   "metadata": {},
   "outputs": [],
   "source": [
    "def quantum_seed(keylenght):\n",
    "    device = LocalSimulator()\n",
    "\n",
    "    circuit = Circuit()\n",
    "    circuit.h(0)\n",
    "    \n",
    "    list = []\n",
    "\n",
    "    for i in range(keylenght):\n",
    "        result = device.run(circuit,shots=1).result().measurement_counts\n",
    "        list.append(result['1'])\n",
    "    \n",
    "    return list"
   ]
  },
  {
   "cell_type": "code",
   "execution_count": 53,
   "id": "73188121",
   "metadata": {},
   "outputs": [],
   "source": [
    "def toInteger(list):\n",
    "    acc = 0\n",
    "    [acc := acc * 2 + i for i in list]\n",
    "    return acc"
   ]
  },
  {
   "cell_type": "code",
   "execution_count": 56,
   "id": "5fd8f175",
   "metadata": {},
   "outputs": [],
   "source": [
    "def qnrg(key):\n",
    "    list = quantum_seed(20)\n",
    "    return hex(toInteger(list))"
   ]
  },
  {
   "cell_type": "code",
   "execution_count": 57,
   "id": "f43d0bb5",
   "metadata": {},
   "outputs": [
    {
     "data": {
      "text/plain": [
       "'0x5bdd0'"
      ]
     },
     "execution_count": 57,
     "metadata": {},
     "output_type": "execute_result"
    }
   ],
   "source": [
    "keylenght('ola')"
   ]
  },
  {
   "cell_type": "code",
   "execution_count": null,
   "id": "5cf6efd0",
   "metadata": {},
   "outputs": [],
   "source": []
  }
 ],
 "metadata": {
  "kernelspec": {
   "display_name": "Python 3 (ipykernel)",
   "language": "python",
   "name": "python3"
  },
  "language_info": {
   "codemirror_mode": {
    "name": "ipython",
    "version": 3
   },
   "file_extension": ".py",
   "mimetype": "text/x-python",
   "name": "python",
   "nbconvert_exporter": "python",
   "pygments_lexer": "ipython3",
   "version": "3.9.6"
  }
 },
 "nbformat": 4,
 "nbformat_minor": 5
}
