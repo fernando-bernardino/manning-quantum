{
 "cells": [
  {
   "cell_type": "code",
   "execution_count": 6,
   "id": "dcf7bc9e",
   "metadata": {},
   "outputs": [],
   "source": [
    "import math\n",
    "import numpy as np\n",
    "from numpy import linalg as LA\n",
    "\n",
    "KET_0 = np.array([\n",
    "    [1],\n",
    "    [0]\n",
    "])\n",
    "\n",
    "KET_1 = np.array([\n",
    "    [0],\n",
    "    [1]\n",
    "])\n",
    "\n",
    "BRA_0 = KET_0.T.conj()\n",
    "\n",
    "\n",
    "CNOT = np.array([\n",
    "    [1,0,0,0],\n",
    "    [0,1,0,0],\n",
    "    [0,0,0,1],\n",
    "    [0,0,1,0]\n",
    "])"
   ]
  },
  {
   "cell_type": "code",
   "execution_count": 2,
   "id": "de037944",
   "metadata": {},
   "outputs": [
    {
     "data": {
      "text/plain": [
       "array([[1],\n",
       "       [0],\n",
       "       [0],\n",
       "       [0]])"
      ]
     },
     "execution_count": 2,
     "metadata": {},
     "output_type": "execute_result"
    }
   ],
   "source": [
    "CNOT @ np.kron(KET_0,KET_0)# |00>"
   ]
  },
  {
   "cell_type": "code",
   "execution_count": 4,
   "id": "7522ac99",
   "metadata": {},
   "outputs": [
    {
     "data": {
      "text/plain": [
       "array([[1, 0],\n",
       "       [0, 0]])"
      ]
     },
     "execution_count": 4,
     "metadata": {},
     "output_type": "execute_result"
    }
   ],
   "source": [
    "LA.norm(BRA_0 @ KET_0, 2)"
   ]
  },
  {
   "cell_type": "code",
   "execution_count": null,
   "id": "4f3d1495",
   "metadata": {},
   "outputs": [],
   "source": []
  }
 ],
 "metadata": {
  "kernelspec": {
   "display_name": "Python 3 (ipykernel)",
   "language": "python",
   "name": "python3"
  },
  "language_info": {
   "codemirror_mode": {
    "name": "ipython",
    "version": 3
   },
   "file_extension": ".py",
   "mimetype": "text/x-python",
   "name": "python",
   "nbconvert_exporter": "python",
   "pygments_lexer": "ipython3",
   "version": "3.9.6"
  }
 },
 "nbformat": 4,
 "nbformat_minor": 5
}
