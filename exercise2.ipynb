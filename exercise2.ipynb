{
 "cells": [
  {
   "cell_type": "code",
   "execution_count": 21,
   "id": "fe72431b",
   "metadata": {},
   "outputs": [
    {
     "name": "stdout",
     "output_type": "stream",
     "text": [
      "[1.41421356 1.41421356 1.41421356]\n",
      "6.000000000000002\n"
     ]
    }
   ],
   "source": [
    "import math\n",
    "import cmath\n",
    "import numpy as np\n",
    "\n",
    "#exercise 1\n",
    "v_row = np.ones(3) * np.sqrt(2)\n",
    "v_column = v_row.T\n",
    "print(v_column)\n",
    "result_ex1 = v_row @ v_column\n",
    "print(result_ex1)"
   ]
  },
  {
   "cell_type": "code",
   "execution_count": 24,
   "id": "773c5908",
   "metadata": {},
   "outputs": [
    {
     "name": "stdout",
     "output_type": "stream",
     "text": [
      "[-17.+56.j   5.+43.j]\n"
     ]
    }
   ],
   "source": [
    "#exercise 2\n",
    "\n",
    "row = np.array([complex(1,2), complex(2,3), complex(4,5)])\n",
    "matrix = np.array([\n",
    "    [complex(1,2), complex(2,3), complex(4,5)],\n",
    "    [complex(6,7), complex(4,1), complex(2,0)]\n",
    "])\n",
    "result_ex2 = row @ matrix.T\n",
    "print(result_ex2)"
   ]
  },
  {
   "cell_type": "code",
   "execution_count": null,
   "id": "25385b46",
   "metadata": {},
   "outputs": [],
   "source": []
  }
 ],
 "metadata": {
  "kernelspec": {
   "display_name": "Python 3 (ipykernel)",
   "language": "python",
   "name": "python3"
  },
  "language_info": {
   "codemirror_mode": {
    "name": "ipython",
    "version": 3
   },
   "file_extension": ".py",
   "mimetype": "text/x-python",
   "name": "python",
   "nbconvert_exporter": "python",
   "pygments_lexer": "ipython3",
   "version": "3.9.6"
  }
 },
 "nbformat": 4,
 "nbformat_minor": 5
}
