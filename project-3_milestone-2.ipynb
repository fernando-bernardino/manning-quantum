{
 "cells": [
  {
   "cell_type": "code",
   "execution_count": 3,
   "id": "60c96db9",
   "metadata": {},
   "outputs": [],
   "source": [
    "from braket import *\n",
    "from braket.circuits import Circuit, Gate, Observable\n",
    "from braket.devices import LocalSimulator\n",
    "from braket.circuits import circuit"
   ]
  },
  {
   "cell_type": "code",
   "execution_count": 5,
   "id": "cb8f640d",
   "metadata": {},
   "outputs": [],
   "source": [
    "def bell():\n",
    "    device = LocalSimulator()\n",
    "    return Circuit().h(0).cnot(0, 1)"
   ]
  },
  {
   "cell_type": "code",
   "execution_count": 15,
   "id": "950f73fc",
   "metadata": {},
   "outputs": [],
   "source": [
    "def encode(bits):\n",
    "    if bits == '00':\n",
    "        return Circuit().i(0)\n",
    "    if bits == '01':\n",
    "        return Circuit().x(0)\n",
    "    if bits == '10':\n",
    "        return Circuit().z(0)\n",
    "    if bits == '11':\n",
    "        return Circuit().x(0).z(0)"
   ]
  },
  {
   "cell_type": "code",
   "execution_count": 16,
   "id": "66256394",
   "metadata": {},
   "outputs": [
    {
     "name": "stdout",
     "output_type": "stream",
     "text": [
      "T  : |0|1|\n",
      "          \n",
      "q0 : -X-Z-\n",
      "\n",
      "T  : |0|1|\n"
     ]
    }
   ],
   "source": [
    "print(encode('11'))"
   ]
  },
  {
   "cell_type": "code",
   "execution_count": null,
   "id": "53b8232f",
   "metadata": {},
   "outputs": [],
   "source": []
  }
 ],
 "metadata": {
  "kernelspec": {
   "display_name": "Python 3 (ipykernel)",
   "language": "python",
   "name": "python3"
  },
  "language_info": {
   "codemirror_mode": {
    "name": "ipython",
    "version": 3
   },
   "file_extension": ".py",
   "mimetype": "text/x-python",
   "name": "python",
   "nbconvert_exporter": "python",
   "pygments_lexer": "ipython3",
   "version": "3.9.6"
  }
 },
 "nbformat": 4,
 "nbformat_minor": 5
}
